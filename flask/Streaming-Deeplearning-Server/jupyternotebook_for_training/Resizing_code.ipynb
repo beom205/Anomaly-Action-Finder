{
 "cells": [
  {
   "cell_type": "markdown",
   "metadata": {},
   "source": [
    "### Cut된 영상 256, 256으로 Resizing 코드"
   ]
  },
  {
   "cell_type": "code",
   "execution_count": 4,
   "metadata": {},
   "outputs": [],
   "source": [
    "import numpy as np\n",
    "import cv2\n",
    "import os"
   ]
  },
  {
   "cell_type": "markdown",
   "metadata": {},
   "source": [
    "## video 영상 Resizing해서 재 저장"
   ]
  },
  {
   "cell_type": "code",
   "execution_count": 6,
   "metadata": {},
   "outputs": [
    {
     "name": "stdout",
     "output_type": "stream",
     "text": [
      "file :  453-2_cam01_assault01_place01_day_spring.CUT.01'03.000-01'04.000.mp4  compleate\n",
      "file :  453-2_cam01_assault01_place01_day_spring.CUT.01'17.000-01'18.000.mp4  compleate\n",
      "file :  453-2_cam01_assault01_place01_day_spring.CUT.01'44.000-01'45.000(1).mp4  compleate\n",
      "file :  453-2_cam01_assault01_place01_day_spring.CUT.01'44.000-01'45.000.mp4  compleate\n",
      "file :  453-2_cam01_assault01_place01_day_spring.CUT.02'03.000-02'04.000.mp4  compleate\n",
      "file :  453-2_cam01_assault01_place01_day_spring.CUT.02'16.000-02'17.000(1).mp4  compleate\n",
      "file :  453-2_cam01_assault01_place01_day_spring.CUT.02'16.000-02'17.000.mp4  compleate\n",
      "file :  453-2_cam01_assault01_place01_day_spring.CUT.02'26.000-02'27.000(1).mp4  compleate\n",
      "file :  453-2_cam01_assault01_place01_day_spring.CUT.02'26.000-02'27.000.mp4  compleate\n",
      "file :  453-2_cam02_assault01_place01_day_summer.CUT.00'42.000-00'43.000.mp4  compleate\n",
      "file :  453-2_cam02_assault01_place01_day_summer.CUT.00'50.000-00'51.000.mp4  compleate\n",
      "file :  453-2_cam02_assault01_place01_day_summer.CUT.01'09.000-01'10.000(1).mp4  compleate\n",
      "file :  453-2_cam02_assault01_place01_day_summer.CUT.01'09.000-01'10.000.mp4  compleate\n",
      "file :  453-2_cam02_assault01_place01_day_summer.CUT.02'17.000-02'18.000.mp4  compleate\n"
     ]
    }
   ],
   "source": [
    "fourcc = cv2.VideoWriter_fourcc(*'MP4V')\n",
    "\n",
    "for video_file in os.listdir(\"C:/Users/dlfwj/Desktop/Normal/Cut3\"):\n",
    "    cap = cv2.VideoCapture(\"C:/Users/dlfwj/Desktop/Normal/Cut3/\" +  video_file)\n",
    "    out = cv2.VideoWriter(\"C:/Users/dlfwj/Desktop/Normal/Minimize2/\"+video_file, fourcc, 30.0, (256, 256))\n",
    "    while True:\n",
    "        ret, frame = cap.read()\n",
    "        if ret:\n",
    "            frame = cv2.resize(frame, (256, 256))\n",
    "            out.write(frame)\n",
    "        else:\n",
    "            break\n",
    "    print(\"file : \", video_file + \"  compleate\")\n",
    "    cap.release()\n",
    "    out.release()"
   ]
  },
  {
   "cell_type": "code",
   "execution_count": null,
   "metadata": {},
   "outputs": [],
   "source": []
  },
  {
   "cell_type": "code",
   "execution_count": null,
   "metadata": {},
   "outputs": [],
   "source": []
  }
 ],
 "metadata": {
  "kernelspec": {
   "display_name": "Python 3",
   "language": "python",
   "name": "python3"
  },
  "language_info": {
   "codemirror_mode": {
    "name": "ipython",
    "version": 3
   },
   "file_extension": ".py",
   "mimetype": "text/x-python",
   "name": "python",
   "nbconvert_exporter": "python",
   "pygments_lexer": "ipython3",
   "version": "3.7.5"
  }
 },
 "nbformat": 4,
 "nbformat_minor": 2
}
